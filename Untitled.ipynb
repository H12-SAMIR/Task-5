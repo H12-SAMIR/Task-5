{
 "cells": [
  {
   "cell_type": "code",
   "execution_count": 12,
   "id": "1c34b016-0032-46d4-a697-c80fdcab58c8",
   "metadata": {},
   "outputs": [
    {
     "name": "stdout",
     "output_type": "stream",
     "text": [
      "Love score: 53\n"
     ]
    }
   ],
   "source": [
    "def calculate_love_score(name1, name2):\n",
    "    # Make the names lowercase to make the counting case-insensitive\n",
    "    name1 = name1.lower()\n",
    "    name2 = name2.lower()\n",
    "    true_letters = \"true\"\n",
    "    love_letters = \"love\"\n",
    "    true_count = 0\n",
    "    love_count = 0\n",
    "    for letter in true_letters:\n",
    "     true_count += name1.count(letter) + name2.count(letter)\n",
    "    for letter in love_letters:\n",
    "     love_count += name1.count(letter) + name2.count(letter)\n",
    "    # Combine the counts into a 2-digit number\n",
    "    love_score = str(true_count) + str(love_count)\n",
    "    \n",
    "    # Print the love score\n",
    "    print(f\"Love score: {love_score}\")\n",
    "\n",
    "# Example usage\n",
    "name1 = \"Angela Yu\"\n",
    "name2 = \"Jack Bauer\"\n",
    "calculate_love_score(name1, name2)"
   ]
  },
  {
   "cell_type": "code",
   "execution_count": 15,
   "id": "d08f1020-7c87-4c9d-921e-7a7d5e7361bd",
   "metadata": {},
   "outputs": [
    {
     "name": "stdin",
     "output_type": "stream",
     "text": [
      "Enter your first name:  \n",
      "Enter your last name:  sa\n"
     ]
    },
    {
     "name": "stdout",
     "output_type": "stream",
     "text": [
      "You didn't provide valid inputs.\n"
     ]
    }
   ],
   "source": [
    "def format_name(f_name, l_name):\n",
    "    # Check if either name is empty\n",
    "    if not f_name or not l_name:\n",
    "        return \"You didn't provide valid inputs.\"\n",
    "    \n",
    "    # Convert both names to title case and return the formatted string\n",
    "    formatted_name = f\"{f_name.title()} {l_name.title()}\"\n",
    "    return f\"Result: {formatted_name}\"\n",
    "\n",
    "# Outside the function, ask the user for their first and last name\n",
    "first_name = input(\"Enter your first name: \")\n",
    "last_name = input(\"Enter your last name: \")\n",
    "\n",
    "# Call the format_name function with user inputs and print the result\n",
    "print(format_name(first_name, last_name))"
   ]
  },
  {
   "cell_type": "code",
   "execution_count": null,
   "id": "a73f26ec-642b-4c91-8885-e63b2d99258d",
   "metadata": {},
   "outputs": [],
   "source": []
  }
 ],
 "metadata": {
  "kernelspec": {
   "display_name": "Python 3 (ipykernel)",
   "language": "python",
   "name": "python3"
  },
  "language_info": {
   "codemirror_mode": {
    "name": "ipython",
    "version": 3
   },
   "file_extension": ".py",
   "mimetype": "text/x-python",
   "name": "python",
   "nbconvert_exporter": "python",
   "pygments_lexer": "ipython3",
   "version": "3.13.2"
  }
 },
 "nbformat": 4,
 "nbformat_minor": 5
}
